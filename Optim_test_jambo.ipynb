{
 "cells": [
  {
   "cell_type": "code",
   "id": "0f27bb11",
   "metadata": {
    "ExecuteTime": {
     "end_time": "2024-12-07T23:11:22.869115Z",
     "start_time": "2024-12-07T23:11:21.344336Z"
    }
   },
   "source": [
    "from typing import Tuple, List\n",
    "\n",
    "import matplotlib.pyplot as plt\n",
    "import numpy as np\n",
    "import pandas as pd\n"
   ],
   "outputs": [],
   "execution_count": 1
  },
  {
   "metadata": {
    "ExecuteTime": {
     "end_time": "2024-12-07T23:11:22.893142Z",
     "start_time": "2024-12-07T23:11:22.878842Z"
    }
   },
   "cell_type": "code",
   "source": [
    "# ------------------------------------------\n",
    "# Настраиваемые параметры (может менять пользователь)\n",
    "# ------------------------------------------\n",
    "ONE_CYLINDRE_COST_USD = 13000  # цена одного вала в долларах\n",
    "AMORT_COST_PER_METER = 0.18  # амортизация и издержки в USD за один метр прогона\n",
    "AMORT_YEARS = 5  # период амортизации валов (в годах)\n",
    "N_vals = 7  # количество валов\n",
    "\n",
    "# Машины и связанные с ними параметры\n",
    "machines = {\n",
    "    'MarkAndy': {\n",
    "        'CYLINDRE_WIDTH': 250,  # ширина вала в мм для MarkAndy\n",
    "        'TECH_LOSS': 72  # тех. потери для MarkAndy\n",
    "    },\n",
    "    'Weigang': {\n",
    "        'CYLINDRE_WIDTH': 450,  # ширина вала в мм для Weigang\n",
    "        'TECH_LOSS': 15.6  # тех. потери для Weigang\n",
    "    }\n",
    "}\n",
    "\n",
    "# ------------------------------------------\n",
    "# Фиксированные параметры\n",
    "# ------------------------------------------\n",
    "ONE_ZUB_mm = 3.175  # шаг изменения длины окружности вала (мм)\n",
    "M_range = range(76, 190)  # Диапазон значений для M (доступные размеры валов)\n",
    "SLED_SIZE_mm = 7.5  # ширина \"лыж\"\n",
    "MAX_KNIFES_ON_ROLL = 10  # максимальное количество ножей на станке\n",
    "\n",
    "# Параметры джамбороля и роликов\n",
    "MAX_JAMBO_ROLL_WIDTH_m = 1.53  # Максимальная ширина джамбороля (м)\n",
    "JAMBO_ROLL_LENGTH_m = 6000  # Длина джамбороля (м)\n",
    "MIN_ROLLIC_LENGTH_m = 100  # минимальная длина ролика (м)\n",
    "MAX_ROLLIC_LENGTH_m = 2000  # максимальная длина ролика (м)\n",
    "\n",
    "# Стоимость материалов\n",
    "material_costs = {\n",
    "    'пленка': 0.63,\n",
    "    'полуглянец': 0.44,\n",
    "    'термочек': 0.56\n",
    "}\n",
    "\n",
    "# Параметры для 'mer' (межэтикеточное расстояние)\n",
    "mer_values = {\n",
    "    'пленка': 3,\n",
    "    'термочек': 3,\n",
    "    'default': 5\n",
    "}\n",
    "\n",
    "\n",
    "def params(selected_machine, CYLINDRE_WIDTH, TECH_LOSS):\n",
    "    \"\"\"\n",
    "    Функция выводит все важные параметры системы,\n",
    "    сгруппированные по логическим блокам.\n",
    "    \"\"\"\n",
    "\n",
    "    print(\"==========================================\")\n",
    "    print(\"             СТОИМОСТЬ И АМОРТИЗАЦИЯ       \")\n",
    "    print(\"==========================================\")\n",
    "    print(f\"{'Стоимость материалов (USD/м²):':35}\")\n",
    "    for mat, cost in material_costs.items():\n",
    "        print(f\"{'':5}{mat}: {cost}\")\n",
    "    print(f\"{'Цена одного вала (USD):':35}{ONE_CYLINDRE_COST_USD}\")\n",
    "    print(f\"{'Амортизация (USD/м):':35}{AMORT_COST_PER_METER}\")\n",
    "    print(f\"{'Период амортизации (лет):':35}{AMORT_YEARS}\")\n",
    "\n",
    "    print(\"\\n==========================================\")\n",
    "    print(\"            ПАРАМЕТРЫ МАШИН И ВАЛОВ        \")\n",
    "    print(\"==========================================\")\n",
    "    print(f\"{'Выбранная машина:':35}{selected_machine}\")\n",
    "    print(f\"{'Ширина вала (мм):':35}{CYLINDRE_WIDTH}\")\n",
    "    print(f\"{'Шаг изменения длины вала (мм/зуб):':35}{ONE_ZUB_mm}\")\n",
    "    print(f\"{'Диапазон размеров вала (M_range):':35}{M_range.start}-{M_range.stop}\")\n",
    "    print(f\"{'Кол-во валов (N_vals):':35}{N_vals}\")\n",
    "    print(f\"{'Мин. длина ролика (м):':35}{MIN_ROLLIC_LENGTH_m}\")\n",
    "    print(f\"{'Макс. длина ролика (м):':35}{MAX_ROLLIC_LENGTH_m}\")\n",
    "\n",
    "    print(\"\\n==========================================\")\n",
    "    print(\"        МАТЕРИАЛЫ И ТЕХНИЧЕСКИЕ ПОТЕРИ     \")\n",
    "    print(\"==========================================\")\n",
    "    print(f\"{'Тех. потери бумаги (м):':35}{TECH_LOSS}\")\n",
    "    print(f\"{'Ширина лыж (SLED_SIZE_mm):':35}{SLED_SIZE_mm}\")\n",
    "    print(f\"{'Межэтикеточное расстояние (mer_values, мм):':35}\")\n",
    "    for mat, distance in mer_values.items():\n",
    "        print(f\"{'':5}{mat}: {distance}\")\n",
    "\n",
    "    print(\"\\n==========================================\")\n",
    "    print(\"        ПАРАМЕТРЫ ДЖАМБОРОЛЯ И РОЛИКОВ     \")\n",
    "    print(\"==========================================\")\n",
    "    print(f\"{'Макс. ширина джамбороля (м):':35}{MAX_JAMBO_ROLL_WIDTH_m}\")\n",
    "    print(f\"{'Длина джамбороля (м):':35}{JAMBO_ROLL_LENGTH_m}\")\n",
    "    print(f\"{'Макс. кол-во ножей на станке:':35}{MAX_KNIFES_ON_ROLL}\")\n",
    "    print(\"==========================================\")"
   ],
   "id": "d970b7df9340a42",
   "outputs": [],
   "execution_count": 2
  },
  {
   "metadata": {
    "ExecuteTime": {
     "end_time": "2024-12-07T23:11:23.008447Z",
     "start_time": "2024-12-07T23:11:23.002785Z"
    }
   },
   "cell_type": "code",
   "source": [
    "def fn(M, s1n, mer):\n",
    "    \"\"\"\n",
    "    Вычисления в миллиметрах!\n",
    "\n",
    "    Функция определяет количество этикеток шириной `s1n` и межручьевое расстояние `mer`,\n",
    "    которые могут уместиться на валу, длина окружности которого определяется\n",
    "    как M * ONE_ZUB_mm (где M - количество зубьев вала).\n",
    "\n",
    "    Параметры:\n",
    "    M    : int  - количество зубьев на валу (определяет длину окружности вала)\n",
    "    s1n  : int  - ширина этикетки в миллиметрах\n",
    "    mer  : int  - межэтикеточное расстояние (МЭР) в миллиметрах\n",
    "\n",
    "    Возвращает:\n",
    "    int  - количество этикеток, которые могут уместиться на валу\n",
    "    \"\"\"\n",
    "    i = 0\n",
    "    while (i * (s1n + mer)) <= ONE_ZUB_mm * M:\n",
    "        i += 1\n",
    "    return i - 1"
   ],
   "id": "eb96f954203e3d87",
   "outputs": [],
   "execution_count": 3
  },
  {
   "metadata": {
    "ExecuteTime": {
     "end_time": "2024-12-07T23:11:23.035489Z",
     "start_time": "2024-12-07T23:11:23.029333Z"
    }
   },
   "cell_type": "code",
   "source": [
    "def fm(s2n, mer, roll_width=None):\n",
    "    \"\"\"\n",
    "    Вычисления в миллиметрах!\n",
    "    Ф-ция определяет кол-во этикеток шириной = s2n и МЭР=mer,\n",
    "    которые уместятся на валу шириной roll_width.\n",
    "\n",
    "    Параметры:\n",
    "    s2n : int  - ширина этикетки в миллиметрах\n",
    "    mer : int  - межручьевое расстояние (МЭР) в миллиметрах\n",
    "    roll_width : int или None\n",
    "        Ширина вала в миллиметрах. Если None, берётся текущее значение CYLINDRE_WIDTH.\n",
    "    \"\"\"\n",
    "\n",
    "    if roll_width is None:\n",
    "        roll_width = CYLINDRE_WIDTH\n",
    "\n",
    "    i = 0\n",
    "    while (i * (s2n + mer) - mer) + SLED_SIZE_mm * 2 <= roll_width:\n",
    "        i += 1\n",
    "    return i - 1"
   ],
   "id": "6c49fa8b7c18a168",
   "outputs": [],
   "execution_count": 4
  },
  {
   "metadata": {},
   "cell_type": "markdown",
   "source": [
    "<dt>Определим формулу потерь Loss_i для i-того заказа</dt>\n",
    "<dd> - потери выражаются в долларах </dd>\n",
    "<dd> - миллиметры приводим в метры </dd>\n",
    "\n",
    "$$\n",
    "Loss_i = S_i * price_i = n_i * h_i * L_i * price_i =\n",
    "\\overbrace{\n",
    "[\\underbrace{\\frac{RUT  * 10^{3}}{fm}}_\\text{кол-во этикеток в одном ручье}\n",
    "* lsh}\n",
    "^\\text{высота всех отступов в ручье}\n",
    " *\n",
    "\\underbrace{(lsv * (fm-1) + 2 ssd)}_\\text{ширина всех отступов в ряду}\n",
    "* price * 10^{-6} ]_i\n",
    "$$\n",
    "\n",
    "<dt>Где</dt>\n",
    "<dd>- lsh (дано) - lable spacing h</dd>\n",
    "<dd>- lsv (дано) - lable spacing v</dd>\n",
    "<dd>- ssd (дано) - SLED_SIZE_mm</dd>\n",
    "<dd>- RUT (дано) - Report_Unit_Thousands</dd>\n",
    "<dd>- fm (вычисляем) - Ф-ция определяет кол-во этикеток шириной = S2n и МЭР=mer,\n",
    "    которые уместятся на валу шириной roll_width.</dd>\n",
    "<dd>- price (вычисляем) - цена кв. метра марериала</dd>"
   ],
   "id": "d266259be4e53344"
  },
  {
   "metadata": {
    "ExecuteTime": {
     "end_time": "2024-12-07T23:11:23.046419Z",
     "start_time": "2024-12-07T23:11:23.040193Z"
    }
   },
   "cell_type": "code",
   "source": [
    "def Loss_i(lsh, lsv, RUT, price, s2n, mer=None):\n",
    "    this_fm = fm(s2n, mer) if mer else fm(s2n, lsv)  #roll_width\n",
    "    return (lsh * RUT * (lsv * (this_fm - 1) + 2 * SLED_SIZE_mm) * price) / (this_fm * 1000)"
   ],
   "id": "25521c39f799b098",
   "outputs": [],
   "execution_count": 5
  },
  {
   "metadata": {},
   "cell_type": "markdown",
   "source": [
    "<dt> Уточним формулу потерь Loss_i для i-того заказа с учетом тех. потерь</dt>\n",
    "\n",
    "$$\n",
    "LossTL_i =  \\underbrace{TL}_\\textrm{длина пробега тех.потерь}*\n",
    "\\underbrace{[fm * (S_2 + lsv)  - lsv + 2 ssd)] * price * 10^-3}_\\textrm{ширина печати}$$\n",
    "\n",
    "<dt>Где</dt>\n",
    "<dd>- ssd (дано) - SLED_SIZE_mm</dd>\n",
    "<dd>- lsv (дано) - lable spacing v</dd>\n",
    "<dd>- TL (дано) TECH_LOSS = 60  # 15.6 технические потери бумаги метры пробега</dd>\n",
    "<dd>- fm (вычисляем) - Ф-ция определяет кол-во этикеток шириной = S2n и МЭР=mer,\n",
    "    которые уместятся на валу шириной roll_width.</dd>\n",
    "<dd>- S_2 (дано) - ширина этикетки</dd>"
   ],
   "id": "e818fd1a91d3196f"
  },
  {
   "metadata": {
    "ExecuteTime": {
     "end_time": "2024-12-07T23:11:23.063808Z",
     "start_time": "2024-12-07T23:11:23.056648Z"
    }
   },
   "cell_type": "code",
   "source": [
    "def LossTL_i(lsv, price, s2n, mer=None):\n",
    "    this_fm = fm(s2n, mer) if mer else fm(s2n, lsv)  #roll_width\n",
    "    this_cylinder_width = (this_fm * (s2n + lsv) - lsv + 2 * SLED_SIZE_mm) * price / 1000\n",
    "    assert this_cylinder_width <= CYLINDRE_WIDTH\n",
    "    return TECH_LOSS * this_cylinder_width  # переводим миллиметры в метры"
   ],
   "id": "b1176ec44f10179d",
   "outputs": [],
   "execution_count": 6
  },
  {
   "metadata": {
    "ExecuteTime": {
     "end_time": "2024-12-07T23:11:23.079653Z",
     "start_time": "2024-12-07T23:11:23.072360Z"
    }
   },
   "cell_type": "code",
   "source": [
    "def SummLoss_i(lsh, lsv, RUT, price, s2n, mer=None):\n",
    "    li = Loss_i(lsh, lsv, RUT, price, s2n, mer)\n",
    "    tli = LossTL_i(lsv, price, s2n, mer)\n",
    "    return li + tli"
   ],
   "id": "5b49adf44c7adcc4",
   "outputs": [],
   "execution_count": 7
  },
  {
   "metadata": {},
   "cell_type": "markdown",
   "source": [
    "$$\n",
    "LossOpt(M_i) = SummLoss_i - LossTL_i(TL) - LossOpt(M_i)\n",
    "$$\n",
    "\n",
    "<dt> Теперь будем оптимизировать номер вала M</dt>\n",
    "<dd> при этом lsh - отступ поперек вала станет переменным</dd>\n",
    "\n",
    "\n",
    "$$\n",
    "lsh = f(M) = M * oz -  fn(M) * (S_1 + mer)\n",
    "$$\n",
    "\n",
    "<dt>Где</dt>\n",
    "<dd>- oz (дано) - ONE_ZUB_mm</dd>\n",
    "<dd>- S_1 (дано) - высота этикетки</dd>\n",
    "<dd>- fn (выч. целое) - Функция определяет количество этикеток шириной `s1n` и межручьевое расстояние `mer`,\n",
    "    которые могут уместиться на валу, длина окружности которого определяется\n",
    "    как M * ONE_ZUB_mm (где M - количество зубьев вала).</dd>\n"
   ],
   "id": "a274aaed1b5c047f"
  },
  {
   "metadata": {
    "ExecuteTime": {
     "end_time": "2024-12-07T23:11:23.094149Z",
     "start_time": "2024-12-07T23:11:23.090070Z"
    }
   },
   "cell_type": "code",
   "source": [
    "def lsh(s1n, mer, M):\n",
    "    return M * ONE_ZUB_mm - fn(M, s1n, mer) * (s1n + mer)"
   ],
   "id": "197ef898d96b7984",
   "outputs": [],
   "execution_count": 8
  },
  {
   "metadata": {},
   "cell_type": "markdown",
   "source": "<dd> С учетом фармулы для lsh уточним расчет LossOpt_i</dd>",
   "id": "f8b92f27f81e919a"
  },
  {
   "metadata": {
    "ExecuteTime": {
     "end_time": "2024-12-07T23:11:23.110203Z",
     "start_time": "2024-12-07T23:11:23.104498Z"
    }
   },
   "cell_type": "code",
   "source": [
    "def LossOpt_i(M, lsv, RUT, price, s1n, s2n, mer):\n",
    "    this_lsh = lsh(s1n, mer, M)\n",
    "    Loss_i_mer = Loss_i(lsh=mer, lsv=mer, RUT=RUT, price=price, s2n=s2n)\n",
    "    Loss_i_real = Loss_i(lsh=this_lsh, lsv=lsv, RUT=RUT, price=price, s2n=s2n)\n",
    "    return Loss_i_real - Loss_i_mer"
   ],
   "id": "ae63a3d8accd5f37",
   "outputs": [],
   "execution_count": 9
  },
  {
   "metadata": {
    "ExecuteTime": {
     "end_time": "2024-12-07T23:11:23.130337Z",
     "start_time": "2024-12-07T23:11:23.119771Z"
    }
   },
   "cell_type": "code",
   "source": [
    "def load_and_process_data(file_path: str, mer_values: dict) -> Tuple[pd.DataFrame, pd.DataFrame, List[str], List[str]]:\n",
    "    \"\"\"\n",
    "    Загружает данные из файла Excel, обрабатывает их,\n",
    "    добавляет колонку 'mer' в зависимости от 'Material',\n",
    "    фильтрует данные и возвращает кортеж из:\n",
    "    - DataFrame (idf) после обработки,\n",
    "    - DataFrame (available_periods_df) с доступными периодами,\n",
    "    - список строк (available_months),\n",
    "    - список строк (expected_columns).\n",
    "    \"\"\"\n",
    "    idf = pd.read_excel(file_path, engine='openpyxl')\n",
    "    idf['mer'] = idf['Material'].apply(lambda x: mer_values.get(x, mer_values['default']))\n",
    "    idf = idf[idf['Report_Unit_Thousands'] > 0]\n",
    "    idf.reset_index(drop=True, inplace=True)\n",
    "\n",
    "    expected_columns = [\n",
    "        'Month', 'SKU', 'Product', 'Report_Unit_Thousands', 'Km',\n",
    "        'L dimension (mm)', 'Cylinder number', 'label spacing v',\n",
    "        'label spacing h', 'Gross_Sales', 'Type_of_Label', 'Size1', 'Size2',\n",
    "        'Material', 'Embossing', 'Color', 'Glue_Type', 'mer'\n",
    "    ]\n",
    "\n",
    "    required_cols = ['Size2', 'Size1', 'Report_Unit_Thousands', 'label spacing h', 'label spacing v', 'Material']\n",
    "    idf = idf[idf[required_cols].notna().all(axis=1)]\n",
    "\n",
    "    available_months = sorted(set(idf['Month']))\n",
    "    available_periods_df = pd.DataFrame(available_months, columns=['Available_Periods'])\n",
    "\n",
    "    return idf, available_periods_df, available_months, expected_columns"
   ],
   "id": "8713395ef7d415a",
   "outputs": [],
   "execution_count": 10
  },
  {
   "cell_type": "code",
   "id": "5e417d52",
   "metadata": {
    "ExecuteTime": {
     "end_time": "2024-12-07T23:11:23.148779Z",
     "start_time": "2024-12-07T23:11:23.140419Z"
    }
   },
   "source": [
    "def adjust_data(idf: pd.DataFrame, expected_columns: list) -> Tuple[pd.DataFrame, int, int]:\n",
    "    \"\"\"\n",
    "    Обрабатывает DataFrame, нормализуя данные по колонке 'L dimension (mm)'.\n",
    "\n",
    "    Для строк, где 'L dimension (mm)' соответствует 'Size2', значения колонок 'Size1' и 'Size2'\n",
    "    меняются местами. Новая колонка 'reverse' отмечает:\n",
    "    - 0: если 'L dimension (mm)' соответствует 'Size1'.\n",
    "    - 1: если 'L dimension (mm)' соответствует 'Size2'.\n",
    "    - -1: если не соответствует ни одному из них.\n",
    "\n",
    "    После обработки данные объединяются, и DataFrame приводится к ожидаемым колонкам.\n",
    "\n",
    "    Параметры:\n",
    "    ----------\n",
    "    idf : pd.DataFrame\n",
    "        Исходный DataFrame для обработки.\n",
    "    expected_columns : list\n",
    "        Список колонок, к которым нужно привести итоговый DataFrame.\n",
    "\n",
    "    Возвращает:\n",
    "    -----------\n",
    "    Tuple[pd.DataFrame, int, int]\n",
    "        - Обработанный DataFrame, приведённый к колонкам expected_columns.\n",
    "        - Количество строк, где 'L dimension (mm)' соответствует 'Size2' (перевернутых строк).\n",
    "        - Общее количество строк в обработанном DataFrame.\n",
    "    \"\"\"\n",
    "    res = []\n",
    "    for _, row in idf.iterrows():\n",
    "        l = row['L dimension (mm)']\n",
    "        s1 = row['Size1']\n",
    "        s2 = row['Size2']\n",
    "        if l == s1:\n",
    "            res.append(0)\n",
    "        elif l == s2:\n",
    "            res.append(1)\n",
    "        else:\n",
    "            res.append(-1)\n",
    "\n",
    "    idf['reverse'] = pd.Series(res)\n",
    "    idf_rev = idf[idf['reverse'] == 1].copy()\n",
    "    idf_nrev = idf[idf['reverse'] == 0].copy()\n",
    "\n",
    "    # Считаем количество перевёрнутых строк\n",
    "    reversed_count = len(idf_rev)\n",
    "\n",
    "    idf_rev.columns = [\n",
    "        'Month', 'SKU', 'Product', 'Report_Unit_Thousands', 'Km',\n",
    "        'L dimension (mm)', 'Cylinder number', 'label spacing h',\n",
    "        'label spacing v', 'Gross_Sales', 'Type_of_Label', 'Size2', 'Size1',\n",
    "        'Material', 'Embossing', 'Color', 'Glue_Type', 'mer', 'reverse'\n",
    "    ]\n",
    "\n",
    "    idf = pd.concat([idf_rev, idf_nrev], axis=0)\n",
    "    idf = idf[expected_columns]\n",
    "\n",
    "    # Общее количество строк после обработки\n",
    "    total_count = len(idf)\n",
    "\n",
    "    return idf, reversed_count, total_count"
   ],
   "outputs": [],
   "execution_count": 11
  },
  {
   "metadata": {},
   "cell_type": "markdown",
   "source": "#### Потери в долларах без учета тех. потерь и с фактическими отступами",
   "id": "59d9ac6230d23209"
  },
  {
   "metadata": {
    "ExecuteTime": {
     "end_time": "2024-12-07T23:11:23.907486Z",
     "start_time": "2024-12-07T23:11:23.165165Z"
    }
   },
   "cell_type": "code",
   "source": [
    "idf.apply(lambda x: Loss_i(lsh=x['label spacing h'], lsv=x['label spacing v'],\n",
    "                           RUT=x['Report_Unit_Thousands'], price=material_costs[x['Material']],\n",
    "                           s2n=x['Size2']), axis=1).sum()"
   ],
   "id": "5d965a7d68cc8b37",
   "outputs": [
    {
     "ename": "NameError",
     "evalue": "name 'idf' is not defined",
     "output_type": "error",
     "traceback": [
      "\u001B[1;31m---------------------------------------------------------------------------\u001B[0m",
      "\u001B[1;31mNameError\u001B[0m                                 Traceback (most recent call last)",
      "Cell \u001B[1;32mIn[12], line 1\u001B[0m\n\u001B[1;32m----> 1\u001B[0m idf\u001B[38;5;241m.\u001B[39mapply(\u001B[38;5;28;01mlambda\u001B[39;00m x: Loss_i(lsh\u001B[38;5;241m=\u001B[39mx[\u001B[38;5;124m'\u001B[39m\u001B[38;5;124mlabel spacing h\u001B[39m\u001B[38;5;124m'\u001B[39m], lsv\u001B[38;5;241m=\u001B[39mx[\u001B[38;5;124m'\u001B[39m\u001B[38;5;124mlabel spacing v\u001B[39m\u001B[38;5;124m'\u001B[39m],\n\u001B[0;32m      2\u001B[0m                            RUT\u001B[38;5;241m=\u001B[39mx[\u001B[38;5;124m'\u001B[39m\u001B[38;5;124mReport_Unit_Thousands\u001B[39m\u001B[38;5;124m'\u001B[39m], price\u001B[38;5;241m=\u001B[39mmaterial_costs[x[\u001B[38;5;124m'\u001B[39m\u001B[38;5;124mMaterial\u001B[39m\u001B[38;5;124m'\u001B[39m]],\n\u001B[0;32m      3\u001B[0m                            s2n\u001B[38;5;241m=\u001B[39mx[\u001B[38;5;124m'\u001B[39m\u001B[38;5;124mSize2\u001B[39m\u001B[38;5;124m'\u001B[39m]), axis\u001B[38;5;241m=\u001B[39m\u001B[38;5;241m1\u001B[39m)\u001B[38;5;241m.\u001B[39msum()\n",
      "\u001B[1;31mNameError\u001B[0m: name 'idf' is not defined"
     ]
    }
   ],
   "execution_count": 12
  },
  {
   "metadata": {},
   "cell_type": "markdown",
   "source": "#### Потери в долларах без учета тех. потерь с отступами = mer",
   "id": "c1ac454331d9654d"
  },
  {
   "metadata": {},
   "cell_type": "code",
   "source": [
    "idf.apply(lambda x: Loss_i(lsh=x['mer'], lsv=x['mer'],\n",
    "                           RUT=x['Report_Unit_Thousands'], price=material_costs[x['Material']],\n",
    "                           s2n=x['Size2']), axis=1).sum()"
   ],
   "id": "8f58da5dd897031a",
   "outputs": [],
   "execution_count": null
  },
  {
   "metadata": {},
   "cell_type": "markdown",
   "source": "#### Потери в долларах с учетом тех. потерь и с фактическими отступами",
   "id": "1edef78b43345140"
  },
  {
   "metadata": {},
   "cell_type": "code",
   "source": [
    "idf.apply(lambda x: LossTL_i(lsv=x['label spacing v'],\n",
    "                             price=material_costs[x['Material']],\n",
    "                             s2n=x['Size2']), axis=1).sum()"
   ],
   "id": "96425f4c2442ce9f",
   "outputs": [],
   "execution_count": null
  },
  {
   "metadata": {},
   "cell_type": "markdown",
   "source": "#### Код возвращает общую сумму потерь в долларах (или другой единице измерения, зависящей от логики SummLoss_i) для всех строк DataFrame.",
   "id": "72adf0f88c8a530c"
  },
  {
   "cell_type": "code",
   "id": "3a7bedf5",
   "metadata": {},
   "source": [
    "idf.apply(lambda x: SummLoss_i(lsh=x['label spacing h'], lsv=x['label spacing v'],\n",
    "                               RUT=x['Report_Unit_Thousands'], price=material_costs[x['Material']],\n",
    "                               s2n=x['Size2']), axis=1).sum()"
   ],
   "outputs": [],
   "execution_count": null
  },
  {
   "cell_type": "markdown",
   "id": "5ddc8c46",
   "metadata": {},
   "source": [
    "<dt> Ниже текущие потери БЕЗ ОПТИМИЗАЦИИ</dt>\n",
    "<dd> Нужно улучшить это значение </dd>"
   ]
  },
  {
   "metadata": {},
   "cell_type": "markdown",
   "source": "#### Количество квадратных метров бумаги",
   "id": "b7b90f0368aa4366"
  },
  {
   "cell_type": "code",
   "id": "18616302",
   "metadata": {},
   "source": [
    "((idf['Size1'] + idf['label spacing h']) * (idf['Size2'] +\n",
    "                                            idf['label spacing v']) * idf[\n",
    "     'Report_Unit_Thousands'] * 1000).sum() / 1000000"
   ],
   "outputs": [],
   "execution_count": null
  },
  {
   "metadata": {},
   "cell_type": "markdown",
   "source": "#### Потери свыше МЭР",
   "id": "60c8cb11d14baee8"
  },
  {
   "cell_type": "code",
   "id": "2e5275d2",
   "metadata": {},
   "source": [
    "((idf['label spacing h'] - idf.mer) * (idf['label spacing v']\n",
    "                                       - idf.mer) * idf['Report_Unit_Thousands'] * 1000).sum() / 1000000"
   ],
   "outputs": [],
   "execution_count": null
  },
  {
   "metadata": {},
   "cell_type": "code",
   "source": [
    "# Общая площадь = Size1 * Size2 * (Report_Unit_Thousands * 1000)\n",
    "idf['printed_Area'] = idf['Size1'] * idf['Size2'] * (idf['Report_Unit_Thousands'] * 1000) / 1000000\n",
    "# Вычисляем ширину печати\n",
    "idf['print_width'] = (idf['Report_Unit_Thousands'] * 1000 * idf['Size1']) / (idf['Km'] * 1_000_000)\n",
    "# Вычисляем площадь техпотерь на настройку\n",
    "idf['setup_loss_area'] = idf['print_width'] * (TECH_LOSS * 1000) / 1000000\n",
    "# Вычисляем площадь лыж\n",
    "idf['sled_area'] = SLED_SIZE_mm * (idf['Km'] * 1_000_000) / 1000000\n",
    "# Вычисляем площадь управляемых потерь\n",
    "idf['loss_area'] = ((idf['label spacing h'] - idf['mer']).clip(lower=0) *\n",
    "                    (idf['label spacing v'] - idf['mer']).clip(lower=0) *\n",
    "                    idf['Report_Unit_Thousands'] * 1000) / 1000000\n",
    "# Общая площадь бумаги\n",
    "total_paper_area = idf['printed_Area'].sum() + idf['setup_loss_area'].sum() + idf['sled_area'].sum() + idf['loss_area'].sum()\n",
    "# Доли\n",
    "printed_area_perc = (idf['printed_Area'].sum() / total_paper_area) * 100\n",
    "setup_loss_area_perc = (idf['setup_loss_area'].sum() / total_paper_area) * 100\n",
    "sled_area_perc = (idf['sled_area'].sum() / total_paper_area) * 100\n",
    "loss_area_perc = (idf['loss_area'].sum() / total_paper_area) * 100\n",
    "\n",
    "print(\"Общая площадь бумаги:\", total_paper_area)\n",
    "print(\"Суммарная площадь печати:\", idf['Printed_Area'].sum())\n",
    "print(\"Суммарная ширина печати:\", idf['print_width'].sum())\n",
    "print(\"Суммарная площадь техпотерь на настройку:\", idf['setup_loss_area'].sum())\n",
    "print(\"Суммарная площадь 'лыж':\", idf['sled_area'].sum())\n",
    "print(\"Суммарная площадь управляемых потерь:\", idf['loss_area'].sum())\n",
    "print(\"Процент площади, занятой печатью, от общей площади:\", printed_area_perc, \"%\")\n",
    "print(\"Процент техпотерь на настройку от общей площади:\", setup_loss_area_perc, \"%\")\n",
    "print(\"Процент площади лыж от общей площади:\", sled_area_perc, \"%\")\n",
    "print(\"Процент управляемых потерь от общей площади:\", loss_area_perc, \"%\")"
   ],
   "id": "207f39feb8e0c73b",
   "outputs": [],
   "execution_count": null
  },
  {
   "cell_type": "code",
   "id": "022b4b0d",
   "metadata": {},
   "source": [
    "print(\"Текущий набор валов: \", sorted(set(idf['Cylinder number'])))\n",
    "print(\"Текущие потери: \")\n",
    "print(int(idf.apply(lambda x: LossOpt_i(mer=x['mer'], M=x['Cylinder number']\n",
    "                                        , lsv=x['label spacing v'],\n",
    "                                        RUT=x['Report_Unit_Thousands'], price=material_costs[x['Material']],\n",
    "                                        s1n=x['Size1'], s2n=x['Size2']), axis=1).sum()), '$')"
   ],
   "outputs": [],
   "execution_count": null
  },
  {
   "cell_type": "code",
   "id": "788c385e",
   "metadata": {},
   "source": [
    "res = []\n",
    "for M in M_range:\n",
    "    lossm = idf.apply(lambda x: LossOpt_i(mer=x['mer'], M=M\n",
    "                                          , lsv=x['label spacing v'],\n",
    "                                          RUT=x['Report_Unit_Thousands'], price=material_costs[x['Material']],\n",
    "                                          s1n=x['Size1'], s2n=x['Size2']), axis=1).sum()\n",
    "    res.append([M, lossm])\n",
    "\n",
    "plt.xlabel('Размер вала M (номер)')\n",
    "plt.ylabel('Потери бумаги* в (USD)')  # * учитывается различная стоимость бумаги, термочека и пленки\n",
    "plt.title('Зависимость площади обрезков бумаги от размера одного вала')\n",
    "plt.plot([e[0] for e in res],\n",
    "         [e[1] for e in res])\n",
    "plt.show()"
   ],
   "outputs": [],
   "execution_count": null
  },
  {
   "cell_type": "code",
   "id": "91b731f1",
   "metadata": {},
   "source": [
    "best_vals = sorted(res, key=lambda x: x[1])\n",
    "best_val = best_vals[0][0]\n",
    "best_loss = best_vals[0][1]\n",
    "pd.DataFrame(best_vals[:N_vals], columns=['M', 'Loss'])"
   ],
   "outputs": [],
   "execution_count": null
  },
  {
   "cell_type": "code",
   "id": "8c8c9828",
   "metadata": {},
   "source": [
    "print(\"При выборе одного вала на все заказы, таким валом будет: \", best_val)\n",
    "print(\"Для него потери: \", int(best_loss))"
   ],
   "outputs": [],
   "execution_count": null
  },
  {
   "cell_type": "markdown",
   "id": "3b66b40a",
   "metadata": {},
   "source": [
    "## Множественная оптимизация валов\n",
    "<dt>До этого мы выбирали один размер вала, который будет подхотьб лучше всего. А теперь будем выбирать наборы валов количеством от 1 до N_vals, так чтобы потрети были минимальны</dt>\n",
    "\n",
    "<dt> На результат множественной оптимизации вслияет способ выбора групп заказов. Для каждой из групп выбирается оптимальный вал. Варианты выбора групп: </dt>\n",
    "\n",
    "<dd>0. По паретто </dd>\n",
    "<dd>1. Группы заказов с одинаковым Cylinder number </dd>\n",
    "<dd>2. Группы заказов с одинаковым Size1 </dd>\n",
    "<dd>3. Группы заказов с одинаковым Size1 и Size2 </dd>\n",
    "<dd>4. Рандомно </dd>\n"
   ]
  },
  {
   "cell_type": "code",
   "id": "865e76dd",
   "metadata": {},
   "source": [
    "def evaluate_by_group(group_name):\n",
    "    loss_for_group = []\n",
    "\n",
    "    for lg in sorted(set(idf[group_name])):\n",
    "        this_group_df = idf[idf[group_name] == lg]\n",
    "        res = []\n",
    "        for M in M_range:\n",
    "            lossm = this_group_df.apply(lambda x: LossOpt_i(mer=x['mer'], M=M\n",
    "                                                            , lsv=x['label spacing v'],\n",
    "                                                            RUT=x['Report_Unit_Thousands'],\n",
    "                                                            price=material_costs[x['Material']],\n",
    "                                                            s1n=x['Size1'], s2n=x['Size2']), axis=1).sum()\n",
    "\n",
    "            res.append([M, lossm])\n",
    "        best_val = sorted(res, key=lambda x: x[1])[0][0]\n",
    "        best_val_loss = sorted(res, key=lambda x: x[1])[0][1]\n",
    "        loss_for_group.append([lg, best_val, best_val_loss, res])\n",
    "    this_loss = sum([e[2] for e in loss_for_group])\n",
    "    this_loss_dict = {e[0]: e[1] for e in loss_for_group}\n",
    "    return this_loss, this_loss_dict"
   ],
   "outputs": [],
   "execution_count": null
  },
  {
   "metadata": {},
   "cell_type": "code",
   "source": "",
   "id": "6513eb44b4afe905",
   "outputs": [],
   "execution_count": null
  },
  {
   "cell_type": "markdown",
   "id": "61b01246",
   "metadata": {},
   "source": [
    "<dd>2. Группы заказов с одинаковым Size1 </dd>"
   ]
  },
  {
   "cell_type": "code",
   "id": "8d1b23ce",
   "metadata": {},
   "source": [
    "agg_idf = idf.groupby([\"Size1\", 'mer']).sum()['Gross_Sales'].sort_values(ascending=False)\n",
    "ddf = pd.DataFrame([agg_idf, agg_idf.cumsum() / agg_idf.sum()]).T\n",
    "ddf.columns = ['Gross_Sales', 'CSP']\n",
    "\n",
    "\n",
    "def get_group_of_lable(s1n, mer, N=N_vals):\n",
    "    csp = ddf.loc[(s1n, mer)]['CSP']\n",
    "    prev_delim = 0\n",
    "    for delim in list(np.arange(0, 1, 1 / N))[1:] + [1]:\n",
    "        if prev_delim <= csp < delim:\n",
    "            return delim\n",
    "        else:\n",
    "            prev_delim = delim\n",
    "    return\n",
    "\n",
    "\n",
    "idf['lable_group'] = idf.apply(lambda x: get_group_of_lable(s1n=x['Size1'],\n",
    "                                                            mer=x['mer'], N=N_vals) or 1, axis=1)\n",
    "ddf.head()"
   ],
   "outputs": [],
   "execution_count": null
  },
  {
   "cell_type": "code",
   "id": "a17de465",
   "metadata": {},
   "source": [
    "this_loss, this_loss_dict = evaluate_by_group('lable_group')\n",
    "idf['rec_cyl_s1g'] = idf['lable_group'].apply(lambda x: this_loss_dict[x])\n",
    "\n",
    "print(int(this_loss))"
   ],
   "outputs": [],
   "execution_count": null
  },
  {
   "cell_type": "markdown",
   "id": "f07aeb35",
   "metadata": {},
   "source": [
    "<dd>3. Группы заказов с одинаковым Size1 и Size2 </dd>"
   ]
  },
  {
   "cell_type": "code",
   "id": "3ae1e40c",
   "metadata": {},
   "source": [
    "agg_idf = idf.groupby([\"Size1\", 'mer', 'Size2']).sum()['Gross_Sales'].sort_values(ascending=False)\n",
    "ddf = pd.DataFrame([agg_idf, agg_idf.cumsum() / agg_idf.sum()]).T\n",
    "ddf.columns = ['Gross_Sales', 'CSP']\n",
    "ddf.head()\n",
    "\n",
    "\n",
    "def get_group_of_lable(s1n, s2n, mer, N=N_vals):\n",
    "    csp = ddf.loc[(s1n, mer, s2n)]['CSP']\n",
    "    prev_delim = 0\n",
    "    for delim in list(np.arange(0, 1, 1 / N))[1:] + [1]:\n",
    "        if prev_delim <= csp < delim:\n",
    "            return delim\n",
    "        else:\n",
    "            prev_delim = delim\n",
    "    return\n",
    "\n",
    "\n",
    "idf['lable_group_s12'] = idf.apply(lambda x: get_group_of_lable(s1n=x['Size1'], s2n=x['Size2'],\n",
    "                                                                mer=x['mer'], N=N_vals) or 1, axis=1)"
   ],
   "outputs": [],
   "execution_count": null
  },
  {
   "cell_type": "code",
   "id": "32c982a8",
   "metadata": {},
   "source": [
    "this_loss, this_loss_dict = evaluate_by_group('lable_group_s12')\n",
    "idf['rec_cyl_s12g'] = idf['lable_group_s12'].apply(lambda x: this_loss_dict[x])\n",
    "\n",
    "print(int(this_loss))"
   ],
   "outputs": [],
   "execution_count": null
  },
  {
   "cell_type": "markdown",
   "id": "2425ee6c",
   "metadata": {},
   "source": [
    "<dd>1. Группы заказов с одинаковым Cylinder number </dd>"
   ]
  },
  {
   "cell_type": "code",
   "id": "9f59486f",
   "metadata": {},
   "source": [
    "this_loss, this_loss_dict = evaluate_by_group('Cylinder number')\n",
    "idf['rec_cyl_cylg'] = idf['Cylinder number'].apply(lambda x: this_loss_dict[x])\n",
    "\n",
    "print(int(this_loss))"
   ],
   "outputs": [],
   "execution_count": null
  },
  {
   "cell_type": "code",
   "id": "44b0a987",
   "metadata": {},
   "source": [
    "print(\"Рекомендуемый набор валов: \", sorted(set(idf['rec_cyl_cylg'])))\n",
    "print(\"потери: \", (int(this_loss)))"
   ],
   "outputs": [],
   "execution_count": null
  },
  {
   "cell_type": "code",
   "id": "2af924b3",
   "metadata": {},
   "source": [
    "print(\"Текущий набор валов: \", sorted(set(idf['Cylinder number'])))\n",
    "print(\"Текущие потери: \")\n",
    "print(int(idf.apply(lambda x: LossOpt_i(mer=x['mer'], M=x['Cylinder number']\n",
    "                                        , lsv=x['label spacing v'],\n",
    "                                        RUT=x['Report_Unit_Thousands'], price=material_costs[x['Material']],\n",
    "                                        s1n=x['Size1'], s2n=x['Size2']), axis=1).sum()), '$')"
   ],
   "outputs": [],
   "execution_count": null
  },
  {
   "metadata": {},
   "cell_type": "code",
   "source": [
    "this_loss, this_loss_dict = evaluate_by_group('Cylinder number')\n",
    "print(\"Содержимое словаря this_loss_dict:\\n\", this_loss_dict)\n"
   ],
   "id": "7630bb234850a4ec",
   "outputs": [],
   "execution_count": null
  },
  {
   "cell_type": "markdown",
   "id": "78ce429b",
   "metadata": {},
   "source": [
    "<dd>4. Рандомно </dd>"
   ]
  },
  {
   "cell_type": "code",
   "id": "38229b92",
   "metadata": {},
   "source": "idf['lable_group_rand'] = idf.apply(lambda x: np.random.randint(N_vals), axis=1)",
   "outputs": [],
   "execution_count": null
  },
  {
   "cell_type": "code",
   "id": "8aa4d2cc",
   "metadata": {},
   "source": [
    "this_loss, this_loss_dict = evaluate_by_group('lable_group_rand')\n",
    "idf['rec_cyl_rand'] = idf['lable_group_rand'].apply(lambda x: this_loss_dict[x])\n",
    "\n",
    "print(int(this_loss))"
   ],
   "outputs": [],
   "execution_count": null
  },
  {
   "cell_type": "markdown",
   "id": "7077ad8a",
   "metadata": {},
   "source": [
    "# Оптимизация количества ручьев"
   ]
  },
  {
   "cell_type": "code",
   "id": "ce1f89ff",
   "metadata": {},
   "source": [
    "idf[['Report_Unit_Thousands', 'Km', 'L dimension (mm)', 'Cylinder number',\n",
    "     'label spacing v', 'Size1', 'Size2', 'mer']].head()"
   ],
   "outputs": [],
   "execution_count": null
  },
  {
   "cell_type": "code",
   "id": "bd1dc52b",
   "metadata": {},
   "source": [
    "def get_range_of_k(lable_width, mer):\n",
    "    \"\"\"\n",
    "    Функция определяет допустимое кол-во ручьев на валу шириной CYLINDRE_WIDTH\n",
    "    в зависимости от ширины этикетки lable_width и МЭР mer\n",
    "    Все измерения в метрах!\n",
    "    \"\"\"\n",
    "    good_ks = []\n",
    "    k = 1\n",
    "    while k * (\n",
    "            lable_width + mer) - mer + 2 * SLED_SIZE_mm * 0.001 < CYLINDRE_WIDTH:  # 12.04 было k * (lable_width + mer) + mer\n",
    "        good_ks.append(k)\n",
    "        k += 1\n",
    "    return good_ks\n",
    "\n",
    "\n",
    "assert get_range_of_k(0.095, 0.003) == [1, 2, 3, 4]"
   ],
   "outputs": [],
   "execution_count": null
  },
  {
   "cell_type": "code",
   "id": "4c3f1e23",
   "metadata": {},
   "source": [
    "def Loss_4K(lable_hights, lable_width, mer, pcs, this_k, material):\n",
    "    \"\"\"\n",
    "    Функция считае потери в рублях за печать pcs штук этикеток\n",
    "    размером hights на width в this_k ручья\n",
    "    material_costs\n",
    "    AMORT_COST_PER_METER\n",
    "    TECH_LOSS\n",
    "    \"\"\"\n",
    "    this_loss = (AMORT_COST_PER_METER * (lable_hights + mer) * pcs) / this_k + \\\n",
    "                ((lable_width + mer) * this_k - mer + 2 * SLED_SIZE_mm * 0.001) * \\\n",
    "                material_costs[material] * TECH_LOSS  # Цена метра квадратного бумаги в долларах\n",
    "    return this_loss"
   ],
   "outputs": [],
   "execution_count": null
  },
  {
   "cell_type": "code",
   "id": "f0352e00",
   "metadata": {},
   "source": [
    "res = []\n",
    "for _, row in idf.iterrows():\n",
    "    lable_hights = row.Size1 / 1000  # длина\n",
    "    lable_width = row.Size2 / 1000  # ширина\n",
    "    this_material = row['Material']\n",
    "    mer = row.mer / 1000\n",
    "    pcs = row['Report_Unit_Thousands'] * 1000\n",
    "    ks = get_range_of_k(lable_width, mer)\n",
    "    losses = []\n",
    "    for k in ks:\n",
    "        this_loss = Loss_4K(lable_hights, lable_width, mer, pcs, k, this_material)\n",
    "        losses.append([k, this_loss])\n",
    "\n",
    "    if losses:\n",
    "        k_optim = sorted(losses, key=lambda x: int(x[1]))[0][0]\n",
    "        k_max = max([e[0] for e in losses])\n",
    "        res.append([k_optim, k_max])\n",
    "    else:\n",
    "        res.append([0, 0])\n",
    "\n",
    "idf.reset_index(drop=True, inplace=True)\n",
    "idf['k_optim'] = pd.Series([e[0] for e in res])\n",
    "idf['k_max'] = pd.Series([e[1] for e in res])"
   ],
   "outputs": [],
   "execution_count": null
  },
  {
   "cell_type": "code",
   "id": "6c3c0ef6",
   "metadata": {},
   "source": [
    "idf[['Report_Unit_Thousands', 'Km', 'L dimension (mm)', 'Cylinder number',\n",
    "     'label spacing v', 'Size1', 'Size2', 'mer', 'k_optim', 'k_max']][idf.k_optim != idf.k_max]"
   ],
   "outputs": [],
   "execution_count": null
  },
  {
   "cell_type": "code",
   "id": "fa0a7f19",
   "metadata": {},
   "source": "(idf.k_max - idf.k_optim).sum()",
   "outputs": [],
   "execution_count": null
  },
  {
   "cell_type": "markdown",
   "id": "e10941ed",
   "metadata": {},
   "source": [
    "#  Джамбо ролли"
   ]
  },
  {
   "cell_type": "markdown",
   "id": "dd83b29c",
   "metadata": {},
   "source": [
    "#### Для каждого заказа выберем максимальное кол-во ручьев k_optim и соответственную ширину печати paint_width_m"
   ]
  },
  {
   "cell_type": "code",
   "id": "0cb548bd",
   "metadata": {},
   "source": [
    "idf.head()"
   ],
   "outputs": [],
   "execution_count": null
  },
  {
   "cell_type": "code",
   "id": "f2bd11ab",
   "metadata": {},
   "source": "idf['optim_cylindre'] = idf['rec_cyl_cylg']",
   "outputs": [],
   "execution_count": null
  },
  {
   "cell_type": "code",
   "id": "c9ecb5f1",
   "metadata": {},
   "source": [
    "\n",
    "idf['paint_width_mm'] = idf.apply(lambda x: ((x['Size2'] + x['mer']) * x['k_optim']) - x['mer'] + 2 * SLED_SIZE_mm,\n",
    "                                  axis=1)"
   ],
   "outputs": [],
   "execution_count": null
  },
  {
   "cell_type": "code",
   "id": "4d028b9f",
   "metadata": {},
   "source": [
    "def one_roll_loss(M, this_s1, this_s2, this_mer, num_lables, this_fn=None, this_fm=None):\n",
    "    \"\"\"\n",
    "        функия возвращает потери в рублях за прогон одного ролля \n",
    "        M - кол-во \"зубцов\" вала\n",
    "        ---- roll_width - ширина одного роля <= 0.45\n",
    "        ---- roll_length - длина одного ролля\n",
    "        this_s1 - высота этикетки\n",
    "        this_s2 - ширина этикетки\n",
    "        this_mer - МЭР для этикетки\n",
    "        num_lables - кол-во этикеток\n",
    "        reverse - если True, то this_s1 и this_s2 меняются местами\n",
    "        \n",
    "        returns (loss_m2, loss_rub, roll_width, roll_length) \n",
    "    \"\"\"\n",
    "    # посчитаем длину ширину одного ПРИНТА (то, что отпечатывает один вал за один раз)\n",
    "    if not this_fm:\n",
    "        this_fm = fm(roll_width=450, s2n=this_s2,\n",
    "                     mer=this_mer)  # кол-во этикеток, кот. поместится на роллик по ширин, вдоль вала\n",
    "\n",
    "    print_width_m = ((this_s2 + this_mer) * this_fm - this_mer + 2 * SLED_SIZE_mm * 0.001) / 1000\n",
    "    if not this_fn:\n",
    "        this_fn = fn(M=M, s1n=this_s1, mer=this_mer)  # кол-во этикеток, кот. поместится на роллик по длине поперек вала\n",
    "    print_higth_m = ((this_s1 + this_mer) * this_fn) / 1000  # было +  this_mer\n",
    "\n",
    "    # посчитаем потери вдоль и поперек вала на один ПРИНТ\n",
    "    val_hights_m = ONE_ZUB_mm * M / 1000\n",
    "    loss_hights_m = val_hights_m - print_higth_m\n",
    "\n",
    "    # посчитаем кол-во этикеток на одном ПРИНТЕ\n",
    "    num_lables_one_print = this_fm * this_fn\n",
    "    if num_lables_one_print == 0:\n",
    "        num_lables_one_print = 1\n",
    "        print(M, this_s1, this_s2, this_mer, num_lables)\n",
    "        print(this_fn, this_fm)\n",
    "\n",
    "    # чтобы напечатать num_lables этикеток, нужно сделать num_prints принтов\n",
    "    num_prints = np.ceil(num_lables / num_lables_one_print)\n",
    "    total_print_hights_m = print_higth_m * num_prints\n",
    "    loss_m2 = print_width_m * loss_hights_m * num_prints\n",
    "\n",
    "    return [loss_m2, loss_m2 * PAPER_PRICE_RUB, print_width_m, total_print_hights_m, val_hights_m, num_prints]\n",
    "\n",
    "\n",
    "one_roll_loss(M=185, this_s1=70, this_s2=95, this_mer=3, num_lables=1096655, this_fm=6)"
   ],
   "outputs": [],
   "execution_count": null
  },
  {
   "cell_type": "code",
   "id": "8c2edb12",
   "metadata": {},
   "source": [
    "losses_list = [one_roll_loss(M=r.optim_cylindre, this_s1=r.Size1, this_s2=r.Size2, this_mer=r.mer,\n",
    "                             num_lables=r.Report_Unit_Thousands * 1000, this_fm=r.k_optim\n",
    "                             ) for _, r in idf.iterrows()]\n",
    "idf.reset_index(drop=True, inplace=True)\n",
    "idf['loss_m2'] = [e[0] for e in losses_list]\n",
    "idf['loss_rub'] = [e[1] for e in losses_list]\n",
    "idf['roll_width'] = [e[2] for e in losses_list]\n",
    "idf['roll_length'] = [e[3] for e in losses_list]\n",
    "idf['val_hights_m'] = [e[4] for e in losses_list]\n",
    "idf['num_prints'] = [e[5] for e in losses_list]\n",
    "\n",
    "idf['order_id'] = idf.index"
   ],
   "outputs": [],
   "execution_count": null
  },
  {
   "cell_type": "markdown",
   "id": "fc1d73b1",
   "metadata": {},
   "source": [
    "## Best Fit Decreasing High\n",
    "https://habr.com/ru/articles/136225/"
   ]
  },
  {
   "cell_type": "code",
   "id": "10ccaf6f",
   "metadata": {},
   "source": [
    "assert fn(M=187, s1n=95, mer=3) == 6\n",
    "idf['num_etiket_on_cylindre'] = idf.apply(lambda x: fn(x['optim_cylindre'], x['Size1'], x['mer']), axis=1)\n",
    "rolls = []\n",
    "for i, order in idf.iterrows():  #  итерируемся по заказам\n",
    "    roll_width = order.roll_width\n",
    "    roll_length = order.roll_length\n",
    "    order_id = order.order_id\n",
    "    optim_cylindre = order.optim_cylindre\n",
    "\n",
    "    if roll_length > MAX_ROLLIC_LENGTH_m:\n",
    "        for sub_roll in range(int(roll_length // MAX_ROLLIC_LENGTH_m)):\n",
    "            rolls.append([roll_width, MAX_ROLLIC_LENGTH_m, order_id, optim_cylindre])\n",
    "        rolls.append([roll_width, roll_length % MAX_ROLLIC_LENGTH_m, order_id, optim_cylindre])\n",
    "    else:\n",
    "        rolls.append([roll_width, roll_length, order_id, optim_cylindre])\n",
    "\n",
    "layers = []\n",
    "this_layer = {\n",
    "    \"lables\": [],  # len() < MAX_KNIFES_ON_ROLL\n",
    "    \"max_hights\": 0,  # <= MAX_ROLLIC_LENGTH_m\n",
    "    \"max_width\": 0,  # <= MAX_JAMBO_ROLL_WIDTH_m\n",
    "    \"id\": None,\n",
    "}\n",
    "i = 0\n",
    "for _, row in pd.DataFrame(rolls, columns=[\n",
    "    \"roll_width\", \"roll_length\", \"order_id\", \"optim_cylindre\"]).sort_values([\n",
    "    \"roll_length\", \"roll_width\"], ascending=False).iterrows():\n",
    "    roll_length = row.roll_length\n",
    "    roll_width = row.roll_width\n",
    "    order_id = row.order_id\n",
    "\n",
    "    if len(this_layer['lables']) + 1 > MAX_KNIFES_ON_ROLL \\\n",
    "            or this_layer['max_width'] + roll_width > MAX_JAMBO_ROLL_WIDTH_m:\n",
    "        this_layer['id'] = 1\n",
    "        layers.append(this_layer)\n",
    "        this_layer = {\"lables\": [], \"max_hights\": 0, \"max_width\": 0}\n",
    "    this_layer['lables'].append([{\"w\": roll_width, \"h\": roll_length, \"oid\": order_id}])\n",
    "    if roll_length > this_layer['max_hights']:\n",
    "        this_layer['max_hights'] = roll_length\n",
    "    this_layer['max_width'] += roll_width\n",
    "    i += 1"
   ],
   "outputs": [],
   "execution_count": null
  },
  {
   "cell_type": "code",
   "id": "a759b690",
   "metadata": {},
   "source": [
    "layers = sorted(layers, key=lambda x: x[\"max_width\"], reverse=True)\n",
    "layers"
   ],
   "outputs": [],
   "execution_count": null
  },
  {
   "cell_type": "code",
   "id": "673963f0",
   "metadata": {},
   "source": [
    "def get_layer_loss_rub(layer):\n",
    "    this_loss_m2 = 0\n",
    "    for lable in layer['lables']:\n",
    "        for e in lable:\n",
    "            this_loss_m2 += (layer['max_hights'] - e['h']) * e['w']\n",
    "    return this_loss_m2"
   ],
   "outputs": [],
   "execution_count": null
  },
  {
   "cell_type": "code",
   "id": "5f6ef54c",
   "metadata": {},
   "source": [
    "jumbo_rolls = []\n",
    "this_JR = {\n",
    "    \"layers\": [],\n",
    "    \"max_width\": 0,\n",
    "    \"used_length\": 0,  # <= MAX_ROLLIC_LENGTH_m\n",
    "    \"loss_m2\": 0\n",
    "}\n",
    "\n",
    "for layer in layers:\n",
    "    if this_JR['used_length'] + layer['max_hights'] > JAMBO_ROLL_LENGTH_m:\n",
    "        jumbo_rolls.append(this_JR)\n",
    "        this_JR = {\"layers\": [], \"max_width\": 0, \"used_length\": 0, 'loss_m2': 0}\n",
    "    if layer['max_width'] > this_JR['max_width']:\n",
    "        this_JR['max_width'] = layer['max_width']\n",
    "    this_JR['layers'].append(layer)\n",
    "    this_JR['used_length'] += layer['max_hights']\n",
    "    this_JR['loss_m2'] += get_layer_loss_rub(layer) + \\\n",
    "                          ((this_JR['max_width'] - layer['max_width']) * layer['max_hights'])\n",
    "\n"
   ],
   "outputs": [],
   "execution_count": null
  },
  {
   "cell_type": "code",
   "id": "f4900d11",
   "metadata": {},
   "source": [
    "jumbo_rolls_df = pd.DataFrame(jumbo_rolls)"
   ],
   "outputs": [],
   "execution_count": null
  },
  {
   "cell_type": "code",
   "id": "0997dbcd",
   "metadata": {},
   "source": [
    "number_of_standart_widths = 3\n",
    "chunks = []\n",
    "prev_n = 0\n",
    "chunk_size = jumbo_rolls_df.shape[0] // number_of_standart_widths\n",
    "dfs = []\n",
    "for i in range(1, number_of_standart_widths + 1):\n",
    "    this_df = jumbo_rolls_df.iloc[prev_n:i * chunk_size, :]\n",
    "    prev_n = i * chunk_size\n",
    "    this_df['norm_width'] = this_df.max_width.max()\n",
    "    this_df['plus_loss'] = ((this_df.norm_width - this_df.max_width) * this_df.used_length)\n",
    "    dfs.append(this_df)\n",
    "opt_width_jumbo_rolls_df = pd.concat(dfs, axis=0)\n",
    "opt_width_jumbo_rolls_df.columns = ['layers', 'max_width', 'used_length', 'loss_m2',\n",
    "                                    'norm_width', 'plus_loss']"
   ],
   "outputs": [],
   "execution_count": null
  },
  {
   "cell_type": "code",
   "id": "f1687291",
   "metadata": {},
   "source": [
    "opt_width_jumbo_rolls_df['sum_loss_m2'] = opt_width_jumbo_rolls_df.loss_m2 + opt_width_jumbo_rolls_df.plus_loss\n",
    "opt_width_jumbo_rolls_df"
   ],
   "outputs": [],
   "execution_count": null
  },
  {
   "cell_type": "code",
   "id": "890be45d",
   "metadata": {},
   "source": "# opt_width_jumbo_rolls_df.to_excel(\"jumbo31112024.xlsx\")",
   "outputs": [],
   "execution_count": null
  },
  {
   "metadata": {},
   "cell_type": "code",
   "source": [
    "if __name__ == '__main__':\n",
    "    # Выбор машины пользователем\n",
    "    selected_machine = 'MarkAndy'  # Или 'Weigang'\n",
    "    CYLINDRE_WIDTH = machines[selected_machine]['CYLINDRE_WIDTH']\n",
    "    TECH_LOSS = machines[selected_machine]['TECH_LOSS']\n",
    "\n",
    "    # Вывод всех актуальных параметров системы с учётом выбранной машины\n",
    "    params(selected_machine, CYLINDRE_WIDTH, TECH_LOSS)\n",
    "\n",
    "    # Тестирование функции fn\n",
    "    assert fn(M=185, s1n=70, mer=3) == 8\n",
    "    assert fn(M=164, s1n=100, mer=3) == 5\n",
    "    assert fn(M=187, s1n=95, mer=3) == 6\n",
    "\n",
    "    # Тестирование функции fm в зависимости от выбранной машины\n",
    "    if selected_machine == 'MarkAndy':\n",
    "        # Если используем MarkAndy (250 мм), результат должен быть 3\n",
    "        assert fm(s2n=70, mer=3) == 3, f\"Ожидалось 3, получено {fm(s2n=70, mer=3)}\"\n",
    "    elif selected_machine == 'Weigang':\n",
    "        # Если используем Weigang (450 мм), результат должен быть 6\n",
    "        assert fm(s2n=70, mer=3) == 6, f\"Ожидалось 6, получено {fm(s2n=70, mer=3)}\"\n",
    "\n",
    "    print(\"Все тесты пройдены успешно!\")\n",
    "\n",
    "    # Загрузка данных после тестов\n",
    "    idf, available_periods_df, available_months_list, expected_columns_list = load_and_process_data(\n",
    "        \"label_cleaned_21_24_no_customer_20240910.xlsx\", mer_values\n",
    "    )\n",
    "\n",
    "    # Выводим доступные периоды\n",
    "    print(\"\\nДоступные периоды для анализа:\")\n",
    "    print(available_periods_df.head())  # Можно вывести .head() или весь список доступных периодов\n",
    "\n",
    "    # Пользователь выбирает период\n",
    "    period = input(\"Введите период (например, '2021', '2022-10' или точное значение месяца): \")\n",
    "\n",
    "    # Фильтрация данных по выбранному периоду\n",
    "    if period:\n",
    "        if period.isdigit():\n",
    "            # Если пользователь ввёл число, фильтруем строки, где 'Month' содержит это число\n",
    "            idf = idf[idf['Month'].apply(lambda x: period in x)].reset_index(drop=True)[expected_columns_list]\n",
    "        else:\n",
    "            # Если пользователь ввёл точный период\n",
    "            idf = idf[idf['Month'] == period].reset_index(drop=True)[expected_columns_list]\n",
    "\n",
    "    print(f\"Выбранный период: {period}\")\n",
    "\n",
    "    # Вызов функции для определения размера по направлению печати\n",
    "    idf, reversed_count, total_count = adjust_data(idf, expected_columns_list)\n",
    "    print(f\"Все размеры в колонке Size1 это расположение по направлению печати. Перевернутых строк: {reversed_count}, всего строк: {total_count}\")\n",
    "\n",
    "    # Дополнительная статистика по выбранному периоду\n",
    "    total_rows = len(idf)\n",
    "    sum_report_units = idf['Report_Unit_Thousands'].sum()\n",
    "    sum_km = idf['Km'].sum()\n",
    "    sum_gross_sales = idf['Gross_Sales'].sum()\n",
    "\n",
    "    unique_months = sorted(idf['Month'].unique())\n",
    "    unique_cylinders = sorted(idf['Cylinder number'].unique())\n",
    "    unique_materials = sorted(idf['Material'].unique())\n",
    "    unique_sku_count = idf['SKU'].nunique()\n",
    "\n",
    "    print(f\"\\nКоличество строк за выбранный период: {total_rows}\")\n",
    "    print(f\"Сумма Report_Unit_Thousands: {sum_report_units}\")\n",
    "    print(f\"Сумма Km: {sum_km}\")\n",
    "    print(f\"Сумма Gross_Sales: {sum_gross_sales}\")\n",
    "\n",
    "    print(\"\\nУникальные значения по Month:\")\n",
    "    print(unique_months)\n",
    "\n",
    "    print(\"\\nУникальные значения по Cylinder number:\")\n",
    "    print(unique_cylinders)\n",
    "\n",
    "    print(\"\\nУникальные значения по Material:\")\n",
    "    print(unique_materials)\n",
    "\n",
    "    print(f\"\\nКоличество уникальных SKU: {unique_sku_count}\")\n"
   ],
   "id": "d5f9f978",
   "outputs": [],
   "execution_count": null
  }
 ],
 "metadata": {
  "kernelspec": {
   "display_name": "Python 3 (ipykernel)",
   "language": "python",
   "name": "python3"
  },
  "language_info": {
   "codemirror_mode": {
    "name": "ipython",
    "version": 3
   },
   "file_extension": ".py",
   "mimetype": "text/x-python",
   "name": "python",
   "nbconvert_exporter": "python",
   "pygments_lexer": "ipython3",
   "version": "3.8.3"
  }
 },
 "nbformat": 4,
 "nbformat_minor": 5
}
